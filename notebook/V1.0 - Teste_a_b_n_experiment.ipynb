{
 "cells": [
  {
   "cell_type": "markdown",
   "id": "b8ebf8a6",
   "metadata": {},
   "source": [
    "# A/B/n Testing"
   ]
  },
  {
   "cell_type": "markdown",
   "id": "6c190df1",
   "metadata": {},
   "source": [
    "# 0.0 Imports"
   ]
  },
  {
   "cell_type": "code",
   "execution_count": 46,
   "id": "d7f0d5df",
   "metadata": {
    "ExecuteTime": {
     "end_time": "2022-09-30T00:55:58.102048Z",
     "start_time": "2022-09-30T00:55:58.080721Z"
    }
   },
   "outputs": [],
   "source": [
    "import numpy as np\n",
    "import pandas as pd\n",
    "\n",
    "from statsmodels.stats.gof import chisquare_effectsize\n",
    "from statsmodels.stats.power import GofChisquarePower"
   ]
  },
  {
   "cell_type": "markdown",
   "id": "38ee5189",
   "metadata": {},
   "source": [
    "# 1.0 Loading Data"
   ]
  },
  {
   "cell_type": "code",
   "execution_count": 37,
   "id": "00377121",
   "metadata": {
    "ExecuteTime": {
     "end_time": "2022-09-30T00:21:16.411108Z",
     "start_time": "2022-09-30T00:21:16.403582Z"
    }
   },
   "outputs": [],
   "source": [
    "d = {'variant' : ['interact' , 'connect' , 'learn' , 'help' , 'services'],\n",
    "     'visits': [10283 , 2742 , 2747, 3180 , 2064],\n",
    "     'clicks_all' : [3714 , 1587 , 1652 , 1717 ,1348],\n",
    "     'clicks_link' : [42 , 53 , 21 , 38 ,45]}\n",
    "\n",
    "data = pd.DataFrame(d)"
   ]
  },
  {
   "cell_type": "code",
   "execution_count": 54,
   "id": "14488fe1",
   "metadata": {
    "ExecuteTime": {
     "end_time": "2022-09-30T01:07:56.028546Z",
     "start_time": "2022-09-30T01:07:56.019296Z"
    }
   },
   "outputs": [],
   "source": [
    "data ['conversion'] = data['clicks_link'] / data['clicks_all']"
   ]
  },
  {
   "cell_type": "code",
   "execution_count": 55,
   "id": "a113bb5a",
   "metadata": {
    "ExecuteTime": {
     "end_time": "2022-09-30T01:07:57.341521Z",
     "start_time": "2022-09-30T01:07:57.333153Z"
    }
   },
   "outputs": [
    {
     "data": {
      "text/html": [
       "<div>\n",
       "<style scoped>\n",
       "    .dataframe tbody tr th:only-of-type {\n",
       "        vertical-align: middle;\n",
       "    }\n",
       "\n",
       "    .dataframe tbody tr th {\n",
       "        vertical-align: top;\n",
       "    }\n",
       "\n",
       "    .dataframe thead th {\n",
       "        text-align: right;\n",
       "    }\n",
       "</style>\n",
       "<table border=\"1\" class=\"dataframe\">\n",
       "  <thead>\n",
       "    <tr style=\"text-align: right;\">\n",
       "      <th></th>\n",
       "      <th>variant</th>\n",
       "      <th>visits</th>\n",
       "      <th>clicks_all</th>\n",
       "      <th>clicks_link</th>\n",
       "      <th>conversion</th>\n",
       "    </tr>\n",
       "  </thead>\n",
       "  <tbody>\n",
       "    <tr>\n",
       "      <th>0</th>\n",
       "      <td>interact</td>\n",
       "      <td>10283</td>\n",
       "      <td>3714</td>\n",
       "      <td>42</td>\n",
       "      <td>0.011309</td>\n",
       "    </tr>\n",
       "    <tr>\n",
       "      <th>1</th>\n",
       "      <td>connect</td>\n",
       "      <td>2742</td>\n",
       "      <td>1587</td>\n",
       "      <td>53</td>\n",
       "      <td>0.033396</td>\n",
       "    </tr>\n",
       "    <tr>\n",
       "      <th>2</th>\n",
       "      <td>learn</td>\n",
       "      <td>2747</td>\n",
       "      <td>1652</td>\n",
       "      <td>21</td>\n",
       "      <td>0.012712</td>\n",
       "    </tr>\n",
       "    <tr>\n",
       "      <th>3</th>\n",
       "      <td>help</td>\n",
       "      <td>3180</td>\n",
       "      <td>1717</td>\n",
       "      <td>38</td>\n",
       "      <td>0.022132</td>\n",
       "    </tr>\n",
       "    <tr>\n",
       "      <th>4</th>\n",
       "      <td>services</td>\n",
       "      <td>2064</td>\n",
       "      <td>1348</td>\n",
       "      <td>45</td>\n",
       "      <td>0.033383</td>\n",
       "    </tr>\n",
       "  </tbody>\n",
       "</table>\n",
       "</div>"
      ],
      "text/plain": [
       "    variant  visits  clicks_all  clicks_link  conversion\n",
       "0  interact   10283        3714           42    0.011309\n",
       "1   connect    2742        1587           53    0.033396\n",
       "2     learn    2747        1652           21    0.012712\n",
       "3      help    3180        1717           38    0.022132\n",
       "4  services    2064        1348           45    0.033383"
      ]
     },
     "execution_count": 55,
     "metadata": {},
     "output_type": "execute_result"
    }
   ],
   "source": [
    "data"
   ]
  },
  {
   "cell_type": "markdown",
   "id": "688c1b08",
   "metadata": {},
   "source": [
    "# 2.0 Design de Experimentos"
   ]
  },
  {
   "cell_type": "markdown",
   "id": "f93ea576",
   "metadata": {},
   "source": [
    "## 2.1 Formulação de Hipóteses"
   ]
  },
  {
   "cell_type": "markdown",
   "id": "675c1197",
   "metadata": {},
   "source": [
    "- H0 : Não há nenhuma diferença entre o CTR das variantes da página\n",
    "- H1 : Há uma diferença entre o CTR das variantes da página\n",
    "\n",
    "**Teste Bi-Caudal**"
   ]
  },
  {
   "cell_type": "markdown",
   "id": "86620b9a",
   "metadata": {},
   "source": [
    "## 2.2 Parâmetros do Experimento"
   ]
  },
  {
   "cell_type": "code",
   "execution_count": 41,
   "id": "f53e86cb",
   "metadata": {
    "ExecuteTime": {
     "end_time": "2022-09-30T00:49:22.269131Z",
     "start_time": "2022-09-30T00:49:22.265633Z"
    }
   },
   "outputs": [],
   "source": [
    "\n",
    "k = len(data['clicks_all'])\n",
    "\n",
    "actual_dist = data['clicks_all'] / data['clicks_all'].sum()\n",
    "\n",
    "\n",
    "expected_dist = [1 / k] * k"
   ]
  },
  {
   "cell_type": "code",
   "execution_count": 50,
   "id": "2961cc86",
   "metadata": {
    "ExecuteTime": {
     "end_time": "2022-09-30T01:02:39.846870Z",
     "start_time": "2022-09-30T01:02:39.834589Z"
    }
   },
   "outputs": [],
   "source": [
    "effect_size = chisquare_effectsize( expected_dist , actual_dist)\n",
    "alpha = 0.05\n",
    "power = 0.80\n",
    "ncols = 2\n",
    "nrows = 5\n",
    "\n",
    "sample_size = GofChisquarePower().solve_power(\n",
    "    effect_size = effect_size, \n",
    "    alpha = alpha, \n",
    "    power = power,\n",
    "    n_bins = (ncols -1) * (nrows - 1)) # graus de liberdade"
   ]
  },
  {
   "cell_type": "code",
   "execution_count": 53,
   "id": "e635cd48",
   "metadata": {
    "ExecuteTime": {
     "end_time": "2022-09-30T01:05:04.337057Z",
     "start_time": "2022-09-30T01:05:04.333002Z"
    }
   },
   "outputs": [
    {
     "name": "stdout",
     "output_type": "stream",
     "text": [
      "Minimum Sample Size per Variant : 59\n",
      "Total Sample Size : 295\n"
     ]
    }
   ],
   "source": [
    "sample_size = np.ceil(sample_size).astype(int)\n",
    "\n",
    "print('Minimum Sample Size per Variant : {}'.format(sample_size))\n",
    "print('Total Sample Size : {}'.format(k * sample_size))"
   ]
  },
  {
   "cell_type": "code",
   "execution_count": null,
   "id": "5f5e4b62",
   "metadata": {},
   "outputs": [],
   "source": []
  },
  {
   "cell_type": "markdown",
   "id": "3e857403",
   "metadata": {},
   "source": [
    "# 3.0 Conversão da página em Faturamento"
   ]
  },
  {
   "cell_type": "code",
   "execution_count": null,
   "id": "e42dca98",
   "metadata": {},
   "outputs": [],
   "source": []
  },
  {
   "cell_type": "code",
   "execution_count": null,
   "id": "ebafde7a",
   "metadata": {},
   "outputs": [],
   "source": []
  }
 ],
 "metadata": {
  "kernelspec": {
   "display_name": "Python 3 (ipykernel)",
   "language": "python",
   "name": "python3"
  },
  "language_info": {
   "codemirror_mode": {
    "name": "ipython",
    "version": 3
   },
   "file_extension": ".py",
   "mimetype": "text/x-python",
   "name": "python",
   "nbconvert_exporter": "python",
   "pygments_lexer": "ipython3",
   "version": "3.9.7"
  },
  "toc": {
   "base_numbering": 1,
   "nav_menu": {},
   "number_sections": false,
   "sideBar": true,
   "skip_h1_title": false,
   "title_cell": "Table of Contents",
   "title_sidebar": "Contents",
   "toc_cell": false,
   "toc_position": {},
   "toc_section_display": true,
   "toc_window_display": false
  },
  "varInspector": {
   "cols": {
    "lenName": 16,
    "lenType": 16,
    "lenVar": 40
   },
   "kernels_config": {
    "python": {
     "delete_cmd_postfix": "",
     "delete_cmd_prefix": "del ",
     "library": "var_list.py",
     "varRefreshCmd": "print(var_dic_list())"
    },
    "r": {
     "delete_cmd_postfix": ") ",
     "delete_cmd_prefix": "rm(",
     "library": "var_list.r",
     "varRefreshCmd": "cat(var_dic_list()) "
    }
   },
   "types_to_exclude": [
    "module",
    "function",
    "builtin_function_or_method",
    "instance",
    "_Feature"
   ],
   "window_display": false
  }
 },
 "nbformat": 4,
 "nbformat_minor": 5
}
