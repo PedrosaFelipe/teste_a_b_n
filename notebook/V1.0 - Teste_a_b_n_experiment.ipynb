{
 "cells": [
  {
   "cell_type": "markdown",
   "id": "b8ebf8a6",
   "metadata": {},
   "source": [
    "# A/B/n Testing"
   ]
  },
  {
   "cell_type": "markdown",
   "id": "6c190df1",
   "metadata": {},
   "source": [
    "# 0.0 Imports"
   ]
  },
  {
   "cell_type": "code",
   "execution_count": 4,
   "id": "d7f0d5df",
   "metadata": {
    "ExecuteTime": {
     "end_time": "2022-10-01T05:15:47.019652Z",
     "start_time": "2022-10-01T05:15:47.015229Z"
    }
   },
   "outputs": [],
   "source": [
    "import numpy as np\n",
    "\n",
    "import pandas as pd\n",
    "from itertools import combinations\n",
    "import seaborn as sns\n",
    "import matplotlib.pyplot as plt\n",
    "from IPython.display import HTML\n",
    "\n",
    "from statsmodels.stats.gof import chisquare_effectsize\n",
    "from statsmodels.stats.power import GofChisquarePower , TTestIndPower\n",
    "from statsmodels.sandbox.stats.multicomp import multipletests\n",
    "from scipy import stats"
   ]
  },
  {
   "cell_type": "markdown",
   "id": "b9ee93fd",
   "metadata": {},
   "source": [
    "##  0.1 Helper Functions"
   ]
  },
  {
   "cell_type": "code",
   "execution_count": 2,
   "id": "9ade1e29",
   "metadata": {
    "ExecuteTime": {
     "end_time": "2022-10-01T05:15:22.050824Z",
     "start_time": "2022-10-01T05:15:21.649691Z"
    }
   },
   "outputs": [
    {
     "data": {
      "text/html": [
       "<style>.container{width:100% !important;}</style>"
      ],
      "text/plain": [
       "<IPython.core.display.HTML object>"
      ]
     },
     "metadata": {},
     "output_type": "display_data"
    },
    {
     "ename": "NameError",
     "evalue": "name 'pd' is not defined",
     "output_type": "error",
     "traceback": [
      "\u001b[0;31m---------------------------------------------------------------------------\u001b[0m",
      "\u001b[0;31mNameError\u001b[0m                                 Traceback (most recent call last)",
      "Cell \u001b[0;32mIn [2], line 20\u001b[0m\n\u001b[1;32m     18\u001b[0m     sns\u001b[38;5;241m.\u001b[39mset(rc\u001b[38;5;241m=\u001b[39m{\u001b[38;5;124m'\u001b[39m\u001b[38;5;124mfigure.figsize\u001b[39m\u001b[38;5;124m'\u001b[39m:(\u001b[38;5;241m25\u001b[39m,\u001b[38;5;241m12\u001b[39m)})\n\u001b[1;32m     19\u001b[0m     sns\u001b[38;5;241m.\u001b[39mset_theme(style \u001b[38;5;241m=\u001b[39m \u001b[38;5;124m'\u001b[39m\u001b[38;5;124mdarkgrid\u001b[39m\u001b[38;5;124m'\u001b[39m, font_scale \u001b[38;5;241m=\u001b[39m \u001b[38;5;241m1\u001b[39m)\n\u001b[0;32m---> 20\u001b[0m my_settings()\n",
      "Cell \u001b[0;32mIn [2], line 15\u001b[0m, in \u001b[0;36mmy_settings\u001b[0;34m()\u001b[0m\n\u001b[1;32m     13\u001b[0m display(HTML(\u001b[38;5;124m'\u001b[39m\u001b[38;5;124m<style>.container\u001b[39m\u001b[38;5;124m{\u001b[39m\u001b[38;5;124mwidth:100\u001b[39m\u001b[38;5;124m%\u001b[39m\u001b[38;5;124m !important;}</style>\u001b[39m\u001b[38;5;124m'\u001b[39m))\n\u001b[1;32m     14\u001b[0m np\u001b[38;5;241m.\u001b[39mset_printoptions(suppress\u001b[38;5;241m=\u001b[39m\u001b[38;5;28;01mTrue\u001b[39;00m)\n\u001b[0;32m---> 15\u001b[0m \u001b[43mpd\u001b[49m\u001b[38;5;241m.\u001b[39mset_option(\u001b[38;5;124m'\u001b[39m\u001b[38;5;124mdisplay.float_format\u001b[39m\u001b[38;5;124m'\u001b[39m, \u001b[38;5;124m'\u001b[39m\u001b[38;5;132;01m{:.3f}\u001b[39;00m\u001b[38;5;124m'\u001b[39m\u001b[38;5;241m.\u001b[39mformat)\n\u001b[1;32m     17\u001b[0m \u001b[38;5;66;03m# seaborn settings\u001b[39;00m\n\u001b[1;32m     18\u001b[0m sns\u001b[38;5;241m.\u001b[39mset(rc\u001b[38;5;241m=\u001b[39m{\u001b[38;5;124m'\u001b[39m\u001b[38;5;124mfigure.figsize\u001b[39m\u001b[38;5;124m'\u001b[39m:(\u001b[38;5;241m25\u001b[39m,\u001b[38;5;241m12\u001b[39m)})\n",
      "\u001b[0;31mNameError\u001b[0m: name 'pd' is not defined"
     ]
    }
   ],
   "source": [
    "def my_settings():\n",
    "    %matplotlib inline\n",
    "    \n",
    "    # plotly settings\n",
    "    plt.style.use( 'ggplot' )\n",
    "    plt.rcParams['figure.figsize'] = [25, 12]\n",
    "    plt.rcParams['font.size'] = 8\n",
    "    \n",
    "    # sets global SEED\n",
    "    SEED = 42\n",
    " \n",
    "    # notebook settings\n",
    "    display(HTML('<style>.container{width:100% !important;}</style>'))\n",
    "    np.set_printoptions(suppress=True)\n",
    "    pd.set_option('display.float_format', '{:.3f}'.format)\n",
    "    \n",
    "    # seaborn settings\n",
    "    sns.set(rc={'figure.figsize':(25,12)})\n",
    "    sns.set_theme(style = 'darkgrid', font_scale = 1)\n",
    "my_settings()"
   ]
  },
  {
   "cell_type": "markdown",
   "id": "38ee5189",
   "metadata": {},
   "source": [
    "# 1.0 Loading Data"
   ]
  },
  {
   "cell_type": "code",
   "execution_count": 5,
   "id": "00377121",
   "metadata": {
    "ExecuteTime": {
     "end_time": "2022-10-01T05:15:49.466385Z",
     "start_time": "2022-10-01T05:15:49.461346Z"
    }
   },
   "outputs": [],
   "source": [
    "d = {'variant' : ['interact' , 'connect' , 'learn' , 'help' , 'services'],\n",
    "     'visits': [10283 , 2742 , 2747, 3180 , 2064],\n",
    "     'clicks_all' : [3714 , 1587 , 1652 , 1717 ,1348],\n",
    "     'clicks_link' : [42 , 53 , 21 , 38 ,45]}\n",
    "\n",
    "data = pd.DataFrame(d)"
   ]
  },
  {
   "cell_type": "code",
   "execution_count": 6,
   "id": "14488fe1",
   "metadata": {
    "ExecuteTime": {
     "end_time": "2022-10-01T05:15:50.799274Z",
     "start_time": "2022-10-01T05:15:50.794809Z"
    }
   },
   "outputs": [],
   "source": [
    "data ['conversion'] = data['clicks_link'] / data['clicks_all']"
   ]
  },
  {
   "cell_type": "code",
   "execution_count": 7,
   "id": "a113bb5a",
   "metadata": {
    "ExecuteTime": {
     "end_time": "2022-10-01T05:15:52.173749Z",
     "start_time": "2022-10-01T05:15:52.165058Z"
    },
    "scrolled": true
   },
   "outputs": [
    {
     "data": {
      "text/html": [
       "<div>\n",
       "<style scoped>\n",
       "    .dataframe tbody tr th:only-of-type {\n",
       "        vertical-align: middle;\n",
       "    }\n",
       "\n",
       "    .dataframe tbody tr th {\n",
       "        vertical-align: top;\n",
       "    }\n",
       "\n",
       "    .dataframe thead th {\n",
       "        text-align: right;\n",
       "    }\n",
       "</style>\n",
       "<table border=\"1\" class=\"dataframe\">\n",
       "  <thead>\n",
       "    <tr style=\"text-align: right;\">\n",
       "      <th></th>\n",
       "      <th>variant</th>\n",
       "      <th>visits</th>\n",
       "      <th>clicks_all</th>\n",
       "      <th>clicks_link</th>\n",
       "      <th>conversion</th>\n",
       "    </tr>\n",
       "  </thead>\n",
       "  <tbody>\n",
       "    <tr>\n",
       "      <th>0</th>\n",
       "      <td>interact</td>\n",
       "      <td>10283</td>\n",
       "      <td>3714</td>\n",
       "      <td>42</td>\n",
       "      <td>0.011309</td>\n",
       "    </tr>\n",
       "    <tr>\n",
       "      <th>1</th>\n",
       "      <td>connect</td>\n",
       "      <td>2742</td>\n",
       "      <td>1587</td>\n",
       "      <td>53</td>\n",
       "      <td>0.033396</td>\n",
       "    </tr>\n",
       "    <tr>\n",
       "      <th>2</th>\n",
       "      <td>learn</td>\n",
       "      <td>2747</td>\n",
       "      <td>1652</td>\n",
       "      <td>21</td>\n",
       "      <td>0.012712</td>\n",
       "    </tr>\n",
       "    <tr>\n",
       "      <th>3</th>\n",
       "      <td>help</td>\n",
       "      <td>3180</td>\n",
       "      <td>1717</td>\n",
       "      <td>38</td>\n",
       "      <td>0.022132</td>\n",
       "    </tr>\n",
       "    <tr>\n",
       "      <th>4</th>\n",
       "      <td>services</td>\n",
       "      <td>2064</td>\n",
       "      <td>1348</td>\n",
       "      <td>45</td>\n",
       "      <td>0.033383</td>\n",
       "    </tr>\n",
       "  </tbody>\n",
       "</table>\n",
       "</div>"
      ],
      "text/plain": [
       "    variant  visits  clicks_all  clicks_link  conversion\n",
       "0  interact   10283        3714           42    0.011309\n",
       "1   connect    2742        1587           53    0.033396\n",
       "2     learn    2747        1652           21    0.012712\n",
       "3      help    3180        1717           38    0.022132\n",
       "4  services    2064        1348           45    0.033383"
      ]
     },
     "execution_count": 7,
     "metadata": {},
     "output_type": "execute_result"
    }
   ],
   "source": [
    "data"
   ]
  },
  {
   "cell_type": "markdown",
   "id": "688c1b08",
   "metadata": {},
   "source": [
    "# 2.0 Design de Experimentos"
   ]
  },
  {
   "cell_type": "markdown",
   "id": "f93ea576",
   "metadata": {},
   "source": [
    "## 2.1 Formulação de Hipóteses"
   ]
  },
  {
   "cell_type": "markdown",
   "id": "675c1197",
   "metadata": {},
   "source": [
    "CTR ( Click-Through Rate)\n",
    "- H0 : Não há nenhuma diferença entre o CTR das variantes da página\n",
    "- H1 : Há uma diferença entre o CTR das variantes da página\n",
    "\n",
    "**Teste Bi-Caudal**"
   ]
  },
  {
   "cell_type": "markdown",
   "id": "86620b9a",
   "metadata": {},
   "source": [
    "## 2.2 Parâmetros do Experimento"
   ]
  },
  {
   "cell_type": "code",
   "execution_count": 8,
   "id": "f53e86cb",
   "metadata": {
    "ExecuteTime": {
     "end_time": "2022-10-01T05:15:54.750419Z",
     "start_time": "2022-10-01T05:15:54.746231Z"
    }
   },
   "outputs": [],
   "source": [
    "\n",
    "k = len(data['clicks_all'])\n",
    "\n",
    "actual_dist = data['clicks_link'] / data['clicks_link'].sum()\n",
    "\n",
    "\n",
    "expected_dist = [1 / k] * k"
   ]
  },
  {
   "cell_type": "code",
   "execution_count": 9,
   "id": "2961cc86",
   "metadata": {
    "ExecuteTime": {
     "end_time": "2022-10-01T05:15:55.554107Z",
     "start_time": "2022-10-01T05:15:55.539440Z"
    }
   },
   "outputs": [],
   "source": [
    "effect_size = chisquare_effectsize( expected_dist , actual_dist)\n",
    "alpha = 0.05\n",
    "power = 0.80\n",
    "# ncols = 2\n",
    "# nrows = 5\n",
    "\n",
    "# sample_size = GofChisquarePower().solve_power(\n",
    "#     effect_size = effect_size, \n",
    "#     alpha = alpha, \n",
    "#     power = power,\n",
    "#     n_bins = (ncols -1) * (nrows - 1)) # graus de liberdade\n",
    "\n",
    "sample_size = TTestIndPower().solve_power(\n",
    "    effect_size = effect_size, \n",
    "    alpha = alpha, \n",
    "    power = power,\n",
    ")"
   ]
  },
  {
   "cell_type": "code",
   "execution_count": 10,
   "id": "e635cd48",
   "metadata": {
    "ExecuteTime": {
     "end_time": "2022-10-01T05:15:56.823428Z",
     "start_time": "2022-10-01T05:15:56.819284Z"
    }
   },
   "outputs": [
    {
     "name": "stdout",
     "output_type": "stream",
     "text": [
      "Minimum Sample Size per Variant : 222\n",
      "Total Sample Size : 1110\n"
     ]
    }
   ],
   "source": [
    "sample_size = np.ceil(sample_size).astype(int)\n",
    "\n",
    "print('Minimum Sample Size per Variant : {}'.format(sample_size))\n",
    "print('Total Sample Size : {}'.format(k * sample_size))"
   ]
  },
  {
   "cell_type": "markdown",
   "id": "3e857403",
   "metadata": {},
   "source": [
    "# 3.0 Aplicação de Teste Chi Squared"
   ]
  },
  {
   "cell_type": "code",
   "execution_count": 11,
   "id": "e42dca98",
   "metadata": {
    "ExecuteTime": {
     "end_time": "2022-10-01T05:15:58.543761Z",
     "start_time": "2022-10-01T05:15:58.527213Z"
    }
   },
   "outputs": [
    {
     "data": {
      "text/html": [
       "<div>\n",
       "<style scoped>\n",
       "    .dataframe tbody tr th:only-of-type {\n",
       "        vertical-align: middle;\n",
       "    }\n",
       "\n",
       "    .dataframe tbody tr th {\n",
       "        vertical-align: top;\n",
       "    }\n",
       "\n",
       "    .dataframe thead th {\n",
       "        text-align: right;\n",
       "    }\n",
       "</style>\n",
       "<table border=\"1\" class=\"dataframe\">\n",
       "  <thead>\n",
       "    <tr style=\"text-align: right;\">\n",
       "      <th></th>\n",
       "      <th>clicks_link</th>\n",
       "      <th>no_clicks_link</th>\n",
       "    </tr>\n",
       "    <tr>\n",
       "      <th>variant</th>\n",
       "      <th></th>\n",
       "      <th></th>\n",
       "    </tr>\n",
       "  </thead>\n",
       "  <tbody>\n",
       "    <tr>\n",
       "      <th>interact</th>\n",
       "      <td>42</td>\n",
       "      <td>3672</td>\n",
       "    </tr>\n",
       "    <tr>\n",
       "      <th>connect</th>\n",
       "      <td>53</td>\n",
       "      <td>1534</td>\n",
       "    </tr>\n",
       "    <tr>\n",
       "      <th>learn</th>\n",
       "      <td>21</td>\n",
       "      <td>1631</td>\n",
       "    </tr>\n",
       "    <tr>\n",
       "      <th>help</th>\n",
       "      <td>38</td>\n",
       "      <td>1679</td>\n",
       "    </tr>\n",
       "    <tr>\n",
       "      <th>services</th>\n",
       "      <td>45</td>\n",
       "      <td>1303</td>\n",
       "    </tr>\n",
       "  </tbody>\n",
       "</table>\n",
       "</div>"
      ],
      "text/plain": [
       "          clicks_link  no_clicks_link\n",
       "variant                              \n",
       "interact           42            3672\n",
       "connect            53            1534\n",
       "learn              21            1631\n",
       "help               38            1679\n",
       "services           45            1303"
      ]
     },
     "execution_count": 11,
     "metadata": {},
     "output_type": "execute_result"
    }
   ],
   "source": [
    "\n",
    "data['no_clicks_link'] = data ['clicks_all'] - data ['clicks_link']\n",
    "df = data[['variant' , 'clicks_link', 'no_clicks_link']].head()\n",
    "df = df.set_index('variant')\n",
    "df"
   ]
  },
  {
   "cell_type": "code",
   "execution_count": 12,
   "id": "8763eab2",
   "metadata": {
    "ExecuteTime": {
     "end_time": "2022-10-01T05:15:59.770397Z",
     "start_time": "2022-10-01T05:15:59.765276Z"
    }
   },
   "outputs": [
    {
     "name": "stdout",
     "output_type": "stream",
     "text": [
      " Chi Squared : 46.33660181942126 - p_value : 2.0959498129984563e-09 \n"
     ]
    }
   ],
   "source": [
    "chi2 , p_value ,dof , ex = stats.chi2_contingency(df)\n",
    "\n",
    "\n",
    "print( ' Chi Squared : {} - p_value : {} '.format(chi2 , p_value))"
   ]
  },
  {
   "cell_type": "markdown",
   "id": "c91a5414",
   "metadata": {},
   "source": [
    "# 4.0 Post-hoc Testing"
   ]
  },
  {
   "cell_type": "code",
   "execution_count": 13,
   "id": "43915b85",
   "metadata": {
    "ExecuteTime": {
     "end_time": "2022-10-01T05:16:03.796631Z",
     "start_time": "2022-10-01T05:16:03.783327Z"
    }
   },
   "outputs": [],
   "source": [
    "all_comb = list(combinations(df.index , 2))\n",
    "p_values = []\n",
    "\n",
    "\n",
    "for comb in all_comb:\n",
    "    new_df = df[(df.index == comb[0]) | (df.index ==comb[1])]\n",
    "    chi2 , p_value , dof , ex = stats.chi2_contingency(new_df)\n",
    "    p_values.append(p_value)\n",
    "    \n",
    "# Correction of Bonrrefoni\n",
    "reject_list , corrected_p_values= multipletests(p_values, method = 'bonferroni')[:2]"
   ]
  },
  {
   "cell_type": "code",
   "execution_count": 14,
   "id": "727e0fcc",
   "metadata": {
    "ExecuteTime": {
     "end_time": "2022-10-01T05:16:05.013815Z",
     "start_time": "2022-10-01T05:16:05.008833Z"
    },
    "code_folding": []
   },
   "outputs": [
    {
     "name": "stdout",
     "output_type": "stream",
     "text": [
      "\n",
      "('interact', 'connect'): p_values: 5.3676772349808135e-08; corrected_p_values: 5.367677234980813e-07; reject_list: True \n",
      "\n",
      "('interact', 'learn'): p_values: 0.7616980743361713; corrected_p_values: 1.0; reject_list: False \n",
      "\n",
      "('interact', 'help'): p_values: 0.0031030587017400212; corrected_p_values: 0.03103058701740021; reject_list: True \n",
      "\n",
      "('interact', 'services'): p_values: 1.798089447385411e-07; corrected_p_values: 1.7980894473854111e-06; reject_list: True \n",
      "\n",
      "('connect', 'learn'): p_values: 0.00013292868361715983; corrected_p_values: 0.0013292868361715984; reject_list: True \n",
      "\n",
      "('connect', 'help'): p_values: 0.06144184057612575; corrected_p_values: 0.6144184057612575; reject_list: False \n",
      "\n",
      "('connect', 'services'): p_values: 1.0; corrected_p_values: 1.0; reject_list: False \n",
      "\n",
      "('learn', 'help'): p_values: 0.0508958228881819; corrected_p_values: 0.5089582288818191; reject_list: False \n",
      "\n",
      "('learn', 'services'): p_values: 0.00020374035733741825; corrected_p_values: 0.0020374035733741825; reject_list: True \n",
      "\n",
      "('help', 'services'): p_values: 0.07301998638337415; corrected_p_values: 0.7301998638337415; reject_list: False \n"
     ]
    }
   ],
   "source": [
    "for comb, p_val , corr_p_val , reject in zip(all_comb, p_values , corrected_p_values,reject_list):\n",
    "    print('\\n{}: p_values: {}; corrected_p_values: {}; reject_list: {} '.format(comb,p_val,corr_p_val,reject))"
   ]
  },
  {
   "cell_type": "code",
   "execution_count": null,
   "id": "5e1fdf09",
   "metadata": {},
   "outputs": [],
   "source": []
  },
  {
   "cell_type": "code",
   "execution_count": null,
   "id": "dcf63b6a",
   "metadata": {},
   "outputs": [],
   "source": []
  },
  {
   "cell_type": "code",
   "execution_count": null,
   "id": "e15de21e",
   "metadata": {},
   "outputs": [],
   "source": []
  },
  {
   "cell_type": "code",
   "execution_count": null,
   "id": "28c9d4a5",
   "metadata": {},
   "outputs": [],
   "source": []
  },
  {
   "cell_type": "code",
   "execution_count": null,
   "id": "79f2dde8",
   "metadata": {},
   "outputs": [],
   "source": []
  },
  {
   "cell_type": "code",
   "execution_count": null,
   "id": "badb5018",
   "metadata": {},
   "outputs": [],
   "source": []
  },
  {
   "cell_type": "code",
   "execution_count": null,
   "id": "ebafde7a",
   "metadata": {},
   "outputs": [],
   "source": []
  }
 ],
 "metadata": {
  "kernelspec": {
   "display_name": "Python 3 (ipykernel)",
   "language": "python",
   "name": "python3"
  },
  "language_info": {
   "codemirror_mode": {
    "name": "ipython",
    "version": 3
   },
   "file_extension": ".py",
   "mimetype": "text/x-python",
   "name": "python",
   "nbconvert_exporter": "python",
   "pygments_lexer": "ipython3",
   "version": "3.10.4"
  },
  "toc": {
   "base_numbering": 1,
   "nav_menu": {},
   "number_sections": false,
   "sideBar": true,
   "skip_h1_title": false,
   "title_cell": "Table of Contents",
   "title_sidebar": "Contents",
   "toc_cell": false,
   "toc_position": {},
   "toc_section_display": true,
   "toc_window_display": false
  },
  "varInspector": {
   "cols": {
    "lenName": 16,
    "lenType": 16,
    "lenVar": 40
   },
   "kernels_config": {
    "python": {
     "delete_cmd_postfix": "",
     "delete_cmd_prefix": "del ",
     "library": "var_list.py",
     "varRefreshCmd": "print(var_dic_list())"
    },
    "r": {
     "delete_cmd_postfix": ") ",
     "delete_cmd_prefix": "rm(",
     "library": "var_list.r",
     "varRefreshCmd": "cat(var_dic_list()) "
    }
   },
   "types_to_exclude": [
    "module",
    "function",
    "builtin_function_or_method",
    "instance",
    "_Feature"
   ],
   "window_display": false
  }
 },
 "nbformat": 4,
 "nbformat_minor": 5
}
